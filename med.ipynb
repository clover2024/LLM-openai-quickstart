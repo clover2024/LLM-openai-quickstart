{
 "cells": [
  {
   "cell_type": "code",
   "execution_count": 1,
   "metadata": {},
   "outputs": [],
   "source": [
    "with open(\"medical_faq.txt\") as f:\n",
    "    med_faq = f.read()"
   ]
  },
  {
   "cell_type": "code",
   "execution_count": 20,
   "metadata": {},
   "outputs": [
    {
     "name": "stderr",
     "output_type": "stream",
     "text": [
      "Created a chunk of size 102, which is longer than the specified 100\n",
      "Created a chunk of size 103, which is longer than the specified 100\n",
      "Created a chunk of size 185, which is longer than the specified 100\n",
      "Created a chunk of size 159, which is longer than the specified 100\n",
      "Created a chunk of size 155, which is longer than the specified 100\n",
      "Created a chunk of size 153, which is longer than the specified 100\n",
      "Created a chunk of size 160, which is longer than the specified 100\n",
      "Created a chunk of size 157, which is longer than the specified 100\n",
      "Created a chunk of size 142, which is longer than the specified 100\n",
      "Created a chunk of size 155, which is longer than the specified 100\n",
      "Created a chunk of size 155, which is longer than the specified 100\n",
      "Created a chunk of size 123, which is longer than the specified 100\n",
      "Created a chunk of size 107, which is longer than the specified 100\n",
      "Created a chunk of size 108, which is longer than the specified 100\n",
      "Created a chunk of size 109, which is longer than the specified 100\n",
      "Created a chunk of size 108, which is longer than the specified 100\n",
      "Created a chunk of size 107, which is longer than the specified 100\n",
      "Created a chunk of size 109, which is longer than the specified 100\n",
      "Created a chunk of size 105, which is longer than the specified 100\n",
      "Created a chunk of size 112, which is longer than the specified 100\n",
      "Created a chunk of size 104, which is longer than the specified 100\n",
      "Created a chunk of size 108, which is longer than the specified 100\n",
      "Created a chunk of size 104, which is longer than the specified 100\n",
      "Created a chunk of size 112, which is longer than the specified 100\n",
      "Created a chunk of size 220, which is longer than the specified 100\n",
      "Created a chunk of size 121, which is longer than the specified 100\n",
      "Created a chunk of size 117, which is longer than the specified 100\n",
      "Created a chunk of size 125, which is longer than the specified 100\n",
      "Created a chunk of size 105, which is longer than the specified 100\n",
      "Created a chunk of size 133, which is longer than the specified 100\n",
      "Created a chunk of size 116, which is longer than the specified 100\n",
      "Created a chunk of size 115, which is longer than the specified 100\n",
      "Created a chunk of size 101, which is longer than the specified 100\n",
      "Created a chunk of size 105, which is longer than the specified 100\n",
      "Created a chunk of size 121, which is longer than the specified 100\n",
      "Created a chunk of size 109, which is longer than the specified 100\n",
      "Created a chunk of size 112, which is longer than the specified 100\n",
      "Created a chunk of size 112, which is longer than the specified 100\n",
      "Created a chunk of size 122, which is longer than the specified 100\n",
      "Created a chunk of size 118, which is longer than the specified 100\n",
      "Created a chunk of size 120, which is longer than the specified 100\n",
      "Created a chunk of size 122, which is longer than the specified 100\n",
      "Created a chunk of size 123, which is longer than the specified 100\n",
      "Created a chunk of size 141, which is longer than the specified 100\n",
      "Created a chunk of size 121, which is longer than the specified 100\n",
      "Created a chunk of size 120, which is longer than the specified 100\n",
      "Created a chunk of size 125, which is longer than the specified 100\n",
      "Created a chunk of size 124, which is longer than the specified 100\n",
      "Created a chunk of size 126, which is longer than the specified 100\n",
      "Created a chunk of size 101, which is longer than the specified 100\n",
      "Created a chunk of size 103, which is longer than the specified 100\n",
      "Created a chunk of size 107, which is longer than the specified 100\n",
      "Created a chunk of size 104, which is longer than the specified 100\n",
      "Created a chunk of size 117, which is longer than the specified 100\n",
      "Created a chunk of size 117, which is longer than the specified 100\n",
      "Created a chunk of size 111, which is longer than the specified 100\n",
      "Created a chunk of size 102, which is longer than the specified 100\n",
      "Created a chunk of size 109, which is longer than the specified 100\n",
      "Created a chunk of size 112, which is longer than the specified 100\n",
      "Created a chunk of size 108, which is longer than the specified 100\n",
      "Created a chunk of size 104, which is longer than the specified 100\n",
      "Created a chunk of size 110, which is longer than the specified 100\n",
      "Created a chunk of size 112, which is longer than the specified 100\n",
      "Created a chunk of size 111, which is longer than the specified 100\n",
      "Created a chunk of size 106, which is longer than the specified 100\n",
      "Created a chunk of size 107, which is longer than the specified 100\n",
      "Created a chunk of size 114, which is longer than the specified 100\n",
      "Created a chunk of size 140, which is longer than the specified 100\n",
      "Created a chunk of size 119, which is longer than the specified 100\n",
      "Created a chunk of size 107, which is longer than the specified 100\n",
      "Created a chunk of size 377, which is longer than the specified 100\n",
      "Created a chunk of size 289, which is longer than the specified 100\n",
      "Created a chunk of size 230, which is longer than the specified 100\n",
      "Created a chunk of size 236, which is longer than the specified 100\n",
      "Created a chunk of size 204, which is longer than the specified 100\n",
      "Created a chunk of size 195, which is longer than the specified 100\n",
      "Created a chunk of size 271, which is longer than the specified 100\n",
      "Created a chunk of size 233, which is longer than the specified 100\n",
      "Created a chunk of size 205, which is longer than the specified 100\n",
      "Created a chunk of size 194, which is longer than the specified 100\n",
      "Created a chunk of size 172, which is longer than the specified 100\n",
      "Created a chunk of size 152, which is longer than the specified 100\n",
      "Created a chunk of size 182, which is longer than the specified 100\n"
     ]
    }
   ],
   "source": [
    "from langchain.text_splitter import CharacterTextSplitter\n",
    "text_splitter = CharacterTextSplitter(        \n",
    "    separator = r'\\d+\\.',\n",
    "    chunk_size = 100,\n",
    "    chunk_overlap  = 0,\n",
    "    length_function = len,\n",
    "    is_separator_regex = True,\n",
    ")\n",
    "docs = text_splitter.create_documents([med_faq])"
   ]
  },
  {
   "cell_type": "code",
   "execution_count": 21,
   "metadata": {},
   "outputs": [
    {
     "data": {
      "text/plain": [
       "Document(page_content='[患者问题]：如何预防感冒？\\n   [医生回答]：勤洗手，避免接触感冒患者，多喝水，保持良好的生活习惯，加强锻炼，提高免疫力。')"
      ]
     },
     "execution_count": 21,
     "metadata": {},
     "output_type": "execute_result"
    }
   ],
   "source": [
    "docs[0]"
   ]
  },
  {
   "cell_type": "code",
   "execution_count": 22,
   "metadata": {},
   "outputs": [
    {
     "data": {
      "text/plain": [
       "211"
      ]
     },
     "execution_count": 22,
     "metadata": {},
     "output_type": "execute_result"
    }
   ],
   "source": [
    "len(docs)"
   ]
  },
  {
   "cell_type": "code",
   "execution_count": 23,
   "metadata": {},
   "outputs": [],
   "source": [
    "from langchain_openai import OpenAIEmbeddings\n",
    "from langchain.vectorstores import FAISS\n",
    "\n",
    "db = FAISS.from_documents(docs, OpenAIEmbeddings())"
   ]
  },
  {
   "cell_type": "code",
   "execution_count": 25,
   "metadata": {},
   "outputs": [
    {
     "name": "stdout",
     "output_type": "stream",
     "text": [
      "[患者问题]：程序员如何规避996工作制下的猝死风险？\n",
      "    [医生回答]：长期过劳工作和高压环境可能增加心脏疾病和猝死的风险。为规避这些风险，程序员应定期进行体检，特别是心脏健康检查，确保及时发现和处理潜在的健康问题。同时，应保持健康的生活方式，如适量运动、均衡饮食、充足睡眠和避免吸烟。此外，学习压力管理和放松技巧，如冥想、深呼吸和瑜伽，也有助于减轻工作压力。\n",
      "\n",
      "[患者问题]：熬夜工作如何降低猝死风险？\n",
      "    [医生回答]：尽量避免长期熬夜，保证充足的睡眠，定期进行体检，特别是心脏健康检查，保持健康的生活方式，如不吸烟、适量运动。\n",
      "\n",
      "[患者问题]：抑郁症患者如何应对自杀冲动？\n",
      "    [医生回答]：抑郁症患者应寻求专业心理治疗和药物治疗。建立支持系统，与家人、朋友和医生保持密切联系。学习应对自杀冲动的策略，如寻求帮助、参加心理支持和小组活动。\n",
      "\n",
      "[患者问题]：中年男性如何应对工作压力导致的健康问题？\n",
      "    [医生回答]：中年男性应学会合理安排工作和休息，进行适量的运动，保持良好的饮食习惯。如有焦虑、抑郁等症状，可寻求心理咨询或心理治疗。定期进行体检，及时发现和治疗潜在健康问题。\n",
      "\n"
     ]
    }
   ],
   "source": [
    "query = \"996怕猝死怎么办\"\n",
    "answer_list = db.similarity_search(query)\n",
    "for ans in answer_list:\n",
    "    print(ans.page_content + \"\\n\")"
   ]
  },
  {
   "cell_type": "code",
   "execution_count": 26,
   "metadata": {},
   "outputs": [],
   "source": [
    "db.save_local(\"med_faq\")"
   ]
  },
  {
   "cell_type": "code",
   "execution_count": 28,
   "metadata": {},
   "outputs": [
    {
     "data": {
      "text/plain": [
       "VectorStoreRetriever(tags=['FAISS', 'OpenAIEmbeddings'], vectorstore=<langchain_community.vectorstores.faiss.FAISS object at 0x119ceff10>, search_kwargs={'k': 3})"
      ]
     },
     "execution_count": 28,
     "metadata": {},
     "output_type": "execute_result"
    }
   ],
   "source": [
    "# 实例化一个 TopK Retriever\n",
    "topK_retriever = db.as_retriever(search_kwargs={\"k\": 3})\n",
    "topK_retriever"
   ]
  },
  {
   "cell_type": "code",
   "execution_count": 29,
   "metadata": {},
   "outputs": [
    {
     "name": "stdout",
     "output_type": "stream",
     "text": [
      "[患者问题]：程序员如何规避996工作制下的猝死风险？\n",
      "    [医生回答]：长期过劳工作和高压环境可能增加心脏疾病和猝死的风险。为规避这些风险，程序员应定期进行体检，特别是心脏健康检查，确保及时发现和处理潜在的健康问题。同时，应保持健康的生活方式，如适量运动、均衡饮食、充足睡眠和避免吸烟。此外，学习压力管理和放松技巧，如冥想、深呼吸和瑜伽，也有助于减轻工作压力。\n",
      "\n",
      "[患者问题]：熬夜工作如何降低猝死风险？\n",
      "    [医生回答]：尽量避免长期熬夜，保证充足的睡眠，定期进行体检，特别是心脏健康检查，保持健康的生活方式，如不吸烟、适量运动。\n",
      "\n",
      "[患者问题]：抑郁症患者如何应对自杀冲动？\n",
      "    [医生回答]：抑郁症患者应寻求专业心理治疗和药物治疗。建立支持系统，与家人、朋友和医生保持密切联系。学习应对自杀冲动的策略，如寻求帮助、参加心理支持和小组活动。\n",
      "\n"
     ]
    }
   ],
   "source": [
    "docs = topK_retriever.get_relevant_documents(query)\n",
    "for doc in docs:\n",
    "    print(doc.page_content + \"\\n\")"
   ]
  },
  {
   "cell_type": "code",
   "execution_count": 30,
   "metadata": {},
   "outputs": [
    {
     "name": "stdout",
     "output_type": "stream",
     "text": [
      "[患者问题]：双相情感障碍患者如何管理情绪波动？\n",
      "    [医生回答]：双相情感障碍患者应遵循医嘱，按时服用情绪稳定剂和抗抑郁药物。学习情绪调节技巧，如冥想、放松和情绪日记。保持健康的生活方式，避免刺激性物质和过度劳累。\n",
      "\n",
      "[患者问题]：抑郁症患者如何应对自杀冲动？\n",
      "    [医生回答]：抑郁症患者应寻求专业心理治疗和药物治疗。建立支持系统，与家人、朋友和医生保持密切联系。学习应对自杀冲动的策略，如寻求帮助、参加心理支持和小组活动。\n",
      "\n",
      "[患者问题]：强迫症患者如何应对强迫思维和行为？\n",
      "    [医生回答]：强迫症患者应遵循医嘱，按时服用抗强迫药物和抗抑郁药物。学习认知行为疗法，特别是暴露和反应预防（ERP）技术。参与支持小组，与他人分享经验和策略。\n",
      "\n"
     ]
    }
   ],
   "source": [
    "docs = topK_retriever.get_relevant_documents(\"最近有点emo怎么办\")\n",
    "for doc in docs:\n",
    "    print(doc.page_content + \"\\n\")"
   ]
  },
  {
   "cell_type": "code",
   "execution_count": 31,
   "metadata": {},
   "outputs": [],
   "source": [
    "# 实例化一个 similarity_score_threshold Retriever\n",
    "retriever = db.as_retriever(\n",
    "    search_type=\"similarity_score_threshold\",\n",
    "    search_kwargs={\"score_threshold\": 0.8}\n",
    ")"
   ]
  },
  {
   "cell_type": "code",
   "execution_count": 32,
   "metadata": {},
   "outputs": [
    {
     "name": "stderr",
     "output_type": "stream",
     "text": [
      "/Users/wangkang/anaconda3/lib/python3.11/site-packages/langchain_core/vectorstores.py:323: UserWarning: No relevant docs were retrieved using the relevance score threshold 0.8\n",
      "  warnings.warn(\n"
     ]
    }
   ],
   "source": [
    "docs = retriever.get_relevant_documents(query)\n",
    "for doc in docs:\n",
    "    print(doc.page_content + \"\\n\")"
   ]
  },
  {
   "cell_type": "code",
   "execution_count": 36,
   "metadata": {},
   "outputs": [
    {
     "name": "stdout",
     "output_type": "stream",
     "text": [
      "[患者问题]：程序员如何规避996工作制下的猝死风险？\n",
      "    [医生回答]：长期过劳工作和高压环境可能增加心脏疾病和猝死的风险。为规避这些风险，程序员应定期进行体检，特别是心脏健康检查，确保及时发现和处理潜在的健康问题。同时，应保持健康的生活方式，如适量运动、均衡饮食、充足睡眠和避免吸烟。此外，学习压力管理和放松技巧，如冥想、深呼吸和瑜伽，也有助于减轻工作压力。\n",
      "\n"
     ]
    }
   ],
   "source": [
    "retriever_75 = db.as_retriever(\n",
    "    search_type=\"similarity_score_threshold\",\n",
    "    search_kwargs={\"score_threshold\": 0.75}\n",
    ")\n",
    "docs = retriever_75.get_relevant_documents(query)\n",
    "for doc in docs:\n",
    "    print(doc.page_content + \"\\n\")"
   ]
  },
  {
   "cell_type": "code",
   "execution_count": 38,
   "metadata": {},
   "outputs": [
    {
     "data": {
      "text/plain": [
       "'[患者问题]：程序员如何规避996工作制下的猝死风险？\\n    [医生回答]：长期过劳工作和高压环境可能增加心脏疾病和猝死的风险。为规避这些风险，程序员应定期进行体检，特别是心脏健康检查，确保及时发现和处理潜在的健康问题。同时，应保持健康的生活方式，如适量运动、均衡饮食、充足睡眠和避免吸烟。此外，学习压力管理和放松技巧，如冥想、深呼吸和瑜伽，也有助于减轻工作压力。'"
      ]
     },
     "execution_count": 38,
     "metadata": {},
     "output_type": "execute_result"
    }
   ],
   "source": [
    "docs = retriever_75.get_relevant_documents(query)\n",
    "docs[0].page_content"
   ]
  },
  {
   "cell_type": "code",
   "execution_count": 42,
   "metadata": {},
   "outputs": [
    {
     "data": {
      "text/plain": [
       "['[患者问题]：程序员如何规避996工作制下的猝死风险？\\n    ',\n",
       " '长期过劳工作和高压环境可能增加心脏疾病和猝死的风险。为规避这些风险，程序员应定期进行体检，特别是心脏健康检查，确保及时发现和处理潜在的健康问题。同时，应保持健康的生活方式，如适量运动、均衡饮食、充足睡眠和避免吸烟。此外，学习压力管理和放松技巧，如冥想、深呼吸和瑜伽，也有助于减轻工作压力。']"
      ]
     },
     "execution_count": 42,
     "metadata": {},
     "output_type": "execute_result"
    }
   ],
   "source": [
    "docs[0].page_content.split(\"[医生回答]：\")"
   ]
  },
  {
   "cell_type": "code",
   "execution_count": 43,
   "metadata": {},
   "outputs": [
    {
     "data": {
      "text/plain": [
       "'长期过劳工作和高压环境可能增加心脏疾病和猝死的风险。为规避这些风险，程序员应定期进行体检，特别是心脏健康检查，确保及时发现和处理潜在的健康问题。同时，应保持健康的生活方式，如适量运动、均衡饮食、充足睡眠和避免吸烟。此外，学习压力管理和放松技巧，如冥想、深呼吸和瑜伽，也有助于减轻工作压力。'"
      ]
     },
     "execution_count": 43,
     "metadata": {},
     "output_type": "execute_result"
    }
   ],
   "source": [
    "ans = docs[0].page_content.split(\"[医生回答]：\")[-1]\n",
    "ans"
   ]
  },
  {
   "cell_type": "code",
   "execution_count": 45,
   "metadata": {},
   "outputs": [],
   "source": [
    "from typing import List\n",
    "\n",
    "def med(query: str, score_threshold: float=0.8) -> List[str]:\n",
    "    retriever = db.as_retriever(search_type=\"similarity_score_threshold\", search_kwargs={\"score_threshold\": score_threshold})    \n",
    "    docs = retriever.get_relevant_documents(query)\n",
    "    ans_list = [doc.page_content.split(\"[医生回答]：\")[-1] for doc in docs]\n",
    "\n",
    "    return ans_list"
   ]
  },
  {
   "cell_type": "code",
   "execution_count": 46,
   "metadata": {},
   "outputs": [
    {
     "data": {
      "text/plain": [
       "['痛经可能由多种原因引起，包括子宫内膜异位症等。可以使用非处方止痛药，如布洛芬，来缓解疼痛。同时，保持良好的生活习惯，如规律饮食和适量运动，有助于减轻痛经症状。']"
      ]
     },
     "execution_count": 46,
     "metadata": {},
     "output_type": "execute_result"
    }
   ],
   "source": [
    "med(\"女朋友痛经了怎么办\")"
   ]
  },
  {
   "cell_type": "code",
   "execution_count": 49,
   "metadata": {},
   "outputs": [
    {
     "data": {
      "text/plain": [
       "['程序员应学会合理安排工作和休息，进行适量的运动，保持良好的饮食习惯。寻求心理支持和咨询，学习压力管理技巧。',\n",
       " '程序员应定期进行休息和放松，如短暂的休息、伸展运动或短暂的散步。学习时间管理和任务优先级，保持良好的工作生活平衡。',\n",
       " '程序员应学会时间管理和任务优先级，保持良好的工作生活平衡。进行适量的运动，保持良好的饮食习惯，并寻求心理咨询或治疗。',\n",
       " '程序员应积极参与团队活动和社交活动，培养良好的沟通技巧，寻求心理支持和咨询。同时，保持健康的生活方式，如适量运动和均衡饮食。']"
      ]
     },
     "execution_count": 49,
     "metadata": {},
     "output_type": "execute_result"
    }
   ],
   "source": [
    "med(\"没力气写代码了怎么办\", score_threshold=0.7)"
   ]
  },
  {
   "cell_type": "code",
   "execution_count": 50,
   "metadata": {},
   "outputs": [
    {
     "data": {
      "text/plain": [
       "['牙痛可能是由多种原因引起的，如牙髓炎、牙周炎等。首先，应避免食用刺激性食物，保持口腔卫生。如果牙痛持续或加剧，应及时就医。医生可能会进行局部麻醉，然后进行根管治疗或牙周治疗。',\n",
       " '保持良好的口腔卫生习惯，定期刷牙和使用牙线，避免吸烟，定期进行口腔检查和专业清洁。',\n",
       " '牙齿敏感可能是由于牙釉质磨损或牙龈退缩引起的。使用软毛牙刷，避免用力刷牙。定期进行牙科检查，接受专业的牙周治疗。在医生指导下，使用抗敏感牙膏或进行脱敏治疗。',\n",
       " '牙齿咬合问题可能导致牙齿磨损、疼痛或颞下颌关节紊乱。以下是一些处理建议：\\n    - 进行全面的口腔检查，评估咬合关系。\\n    - 在必要时，进行正畸治疗或咬合板治疗，以改善咬合关系。\\n    - 避免使用牙齿作为工具，如用牙齿开瓶盖或撕开包装。\\n    - 定期进行牙科检查，评估咬合状况的变化。']"
      ]
     },
     "execution_count": 50,
     "metadata": {},
     "output_type": "execute_result"
    }
   ],
   "source": [
    "med(\"牙疼怎么办\")"
   ]
  },
  {
   "cell_type": "code",
   "execution_count": 52,
   "metadata": {},
   "outputs": [
    {
     "data": {
      "text/plain": [
       "['保持规律的饮食习惯，避免暴饮暴食，少吃油腻和辛辣食物，多喝水，必要时进行药物治疗。',\n",
       " '保持规律的饮食习惯，避免过量进食和辛辣油腻食物，适量运动，必要时使用抗酸药或消化酶补充剂。',\n",
       " '中医调理胃痛可以通过服用具有健脾和胃作用的中药，如白术、茯苓等，以及调整饮食和生活习惯，如避免辛辣刺激性食物，保持饮食规律。',\n",
       " '中医治疗慢性胃炎可以通过服用具有健脾和胃作用的中药，如白术、茯苓等，以及调整饮食和生活习惯，如避免辛辣刺激性食物，保持饮食规律。']"
      ]
     },
     "execution_count": 52,
     "metadata": {},
     "output_type": "execute_result"
    }
   ],
   "source": [
    "med(\"胃疼怎么办\")"
   ]
  },
  {
   "cell_type": "code",
   "execution_count": 53,
   "metadata": {},
   "outputs": [
    {
     "data": {
      "text/plain": [
       "['尽量避免长期熬夜，保证充足的睡眠，定期进行体检，特别是心脏健康检查，保持健康的生活方式，如不吸烟、适量运动。',\n",
       " '长期过劳工作和高压环境可能增加心脏疾病和猝死的风险。为规避这些风险，程序员应定期进行体检，特别是心脏健康检查，确保及时发现和处理潜在的健康问题。同时，应保持健康的生活方式，如适量运动、均衡饮食、充足睡眠和避免吸烟。此外，学习压力管理和放松技巧，如冥想、深呼吸和瑜伽，也有助于减轻工作压力。']"
      ]
     },
     "execution_count": 53,
     "metadata": {},
     "output_type": "execute_result"
    }
   ],
   "source": [
    "med(\"如何降低猝死风险\")"
   ]
  },
  {
   "cell_type": "code",
   "execution_count": 55,
   "metadata": {},
   "outputs": [
    {
     "data": {
      "text/plain": [
       "['鼓励健康的饮食习惯，限制高糖和高脂肪食物，增加户外活动和体育锻炼，限制屏幕时间。',\n",
       " '保持健康的饮食习惯，如多吃蔬菜水果和全谷物，少吃高糖和高脂肪食物，定期进行锻炼，如散步、跑步或健身。',\n",
       " '定期站立和走动，进行办公室锻炼，如伸展和椅子运动，控制零食摄入，保持健康的饮食习惯，合理安排午餐和休息时间。',\n",
       " '中医调理肥胖可以通过服用具有利湿化痰和健脾消脂作用的中药，如荷叶、山楂等，以及调整饮食和生活习惯，如控制饮食热量，增加运动量。']"
      ]
     },
     "execution_count": 55,
     "metadata": {},
     "output_type": "execute_result"
    }
   ],
   "source": [
    "med(\"太胖了怎么办\", score_threshold=0.75)"
   ]
  },
  {
   "cell_type": "code",
   "execution_count": 56,
   "metadata": {},
   "outputs": [
    {
     "name": "stderr",
     "output_type": "stream",
     "text": [
      "/Users/wangkang/anaconda3/lib/python3.11/site-packages/langchain_core/_api/deprecation.py:117: LangChainDeprecationWarning: The class `langchain_community.embeddings.openai.OpenAIEmbeddings` was deprecated in langchain-community 0.1.0 and will be removed in 0.2.0. An updated version of the class exists in the langchain-openai package and should be used instead. To use it run `pip install -U langchain-openai` and import as `from langchain_openai import OpenAIEmbeddings`.\n",
      "  warn_deprecated(\n"
     ]
    }
   ],
   "source": [
    "from langchain_openai import OpenAIEmbeddings\n",
    "from langchain.vectorstores import FAISS\n",
    "\n",
    "db = FAISS.load_local(\"med_faq\", OpenAIEmbeddings())"
   ]
  },
  {
   "cell_type": "code",
   "execution_count": 59,
   "metadata": {},
   "outputs": [],
   "source": [
    "from langchain.chains import RetrievalQA\n",
    "from langchain_openai import ChatOpenAI\n",
    "\n",
    "llm = ChatOpenAI(model_name=\"gpt-3.5-turbo\", temperature=0.5)\n",
    "qa_chain = RetrievalQA.from_chain_type(llm,\n",
    "                                       retriever=db.as_retriever(search_type=\"similarity_score_threshold\",\n",
    "                                                                 search_kwargs={\"score_threshold\": 0.75}))"
   ]
  },
  {
   "cell_type": "code",
   "execution_count": 60,
   "metadata": {},
   "outputs": [
    {
     "name": "stderr",
     "output_type": "stream",
     "text": [
      "/Users/wangkang/anaconda3/lib/python3.11/site-packages/langchain_core/_api/deprecation.py:117: LangChainDeprecationWarning: The function `__call__` was deprecated in LangChain 0.1.0 and will be removed in 0.2.0. Use invoke instead.\n",
      "  warn_deprecated(\n"
     ]
    },
    {
     "data": {
      "text/plain": [
       "{'query': '程序员怎么养生呀',\n",
       " 'result': '程序员养生的方法有很多，以下是一些建议：\\n\\n1. 合理安排工作和休息时间：避免长时间连续工作，每隔一段时间就要休息一下，可以做些伸展运动或眼保健操，放松身心。\\n\\n2. 均衡饮食：保持健康的饮食习惯，多吃蔬菜水果和全谷物，少吃高糖和高脂肪食物。避免过度依赖咖啡因和能量饮料。\\n\\n3. 定期运动：进行适量的运动，如散步、跑步、健身等，有助于提高身体素质和心理健康。\\n\\n4. 管理压力：学习压力管理技巧，如寻求心理支持和咨询，学习放松技巧，如冥想、深呼吸等。\\n\\n5. 维护良好的工作生活平衡：不要让工作占据全部时间和精力，合理安排工作和生活的时间，培养自己的兴趣爱好，与家人和朋友保持良好的社交关系。\\n\\n请注意，以上建议仅供参考，具体养生方法还需根据个人情况来调整和选择。如果有特殊的健康问题，建议咨询医生或专业人士的意见。'}"
      ]
     },
     "execution_count": 60,
     "metadata": {},
     "output_type": "execute_result"
    }
   ],
   "source": [
    "qa_chain({\"query\": \"程序员怎么养生呀\"})"
   ]
  },
  {
   "cell_type": "code",
   "execution_count": 61,
   "metadata": {},
   "outputs": [
    {
     "name": "stdout",
     "output_type": "stream",
     "text": [
      "\n",
      "\n",
      "\u001b[1m> Entering new StuffDocumentsChain chain...\u001b[0m\n",
      "\n",
      "\u001b[1m> Finished chain.\u001b[0m\n"
     ]
    },
    {
     "data": {
      "text/plain": [
       "{'query': '程序员怎么养生呀',\n",
       " 'result': '程序员养生的方法包括以下几点：\\n\\n1. 合理安排工作和休息：确保每天有足够的休息时间，避免长时间连续工作，可以定时休息或进行短暂的放松活动。\\n\\n2. 健康饮食：保持良好的饮食习惯，多吃蔬菜水果和全谷物，少吃高糖和高脂肪食物。避免过度依赖咖啡因和能量饮料。\\n\\n3. 适量运动：定期进行身体锻炼，如散步、跑步、健身等，有助于缓解身体的紧张和疲劳感。\\n\\n4. 心理支持和咨询：寻求心理支持和咨询，学习压力管理技巧，可以通过与同事、朋友或专业心理咨询师交流来减轻心理压力。\\n\\n5. 维护工作生活平衡：学会时间管理和任务优先级，合理安排工作和生活，确保有足够的休闲和娱乐时间。\\n\\n请注意，以上建议仅供参考，具体养生方法还需根据个人情况和健康状况进行调整。如有需要，建议咨询专业医生或健康专家。'}"
      ]
     },
     "execution_count": 61,
     "metadata": {},
     "output_type": "execute_result"
    }
   ],
   "source": [
    "qa_chain.combine_documents_chain.verbose = True\n",
    "qa_chain({\"query\": \"程序员怎么养生呀\"})"
   ]
  },
  {
   "cell_type": "code",
   "execution_count": 62,
   "metadata": {},
   "outputs": [
    {
     "name": "stdout",
     "output_type": "stream",
     "text": [
      "\n",
      "\n",
      "\u001b[1m> Entering new StuffDocumentsChain chain...\u001b[0m\n",
      "\n",
      "\u001b[1m> Finished chain.\u001b[0m\n"
     ]
    },
    {
     "data": {
      "text/plain": [
       "{'query': '感冒了嗓子疼怎么办',\n",
       " 'result': '可以尝试以下方法缓解感冒引起的喉咙疼痛：\\n1. 多喝温水：保持身体水分充足，有助于稀释病毒和减轻喉咙疼痛。\\n2. 喉咙喷雾：使用含有局部麻醉剂或舒缓成分的喉咙喷雾，可以暂时缓解喉咙疼痛。\\n3. 盐水漱口：用温盐水漱口，可以舒缓喉咙疼痛和减少病毒繁殖。\\n4. 喉咙糖或喉咙片：含有舒缓成分的喉咙糖或喉咙片，可以缓解喉咙疼痛。\\n5. 休息好：充足的休息有助于身体恢复，也可以减轻喉咙疼痛的不适感。\\n如果喉咙疼痛严重或持续时间较长，建议咨询医生进行进一步的评估和治疗。'}"
      ]
     },
     "execution_count": 62,
     "metadata": {},
     "output_type": "execute_result"
    }
   ],
   "source": [
    "qa_chain({\"query\": \"感冒了嗓子疼怎么办\"})"
   ]
  }
 ],
 "metadata": {
  "kernelspec": {
   "display_name": "base",
   "language": "python",
   "name": "python3"
  },
  "language_info": {
   "codemirror_mode": {
    "name": "ipython",
    "version": 3
   },
   "file_extension": ".py",
   "mimetype": "text/x-python",
   "name": "python",
   "nbconvert_exporter": "python",
   "pygments_lexer": "ipython3",
   "version": "3.11.5"
  }
 },
 "nbformat": 4,
 "nbformat_minor": 2
}
